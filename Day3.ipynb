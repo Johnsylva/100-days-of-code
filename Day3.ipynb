{
  "nbformat": 4,
  "nbformat_minor": 0,
  "metadata": {
    "colab": {
      "name": "Day3.ipynb",
      "provenance": [],
      "authorship_tag": "ABX9TyODtxBbsRqbi+xzwX2dOAbM",
      "include_colab_link": true
    },
    "kernelspec": {
      "name": "python3",
      "display_name": "Python 3"
    },
    "language_info": {
      "name": "python"
    }
  },
  "cells": [
    {
      "cell_type": "markdown",
      "metadata": {
        "id": "view-in-github",
        "colab_type": "text"
      },
      "source": [
        "<a href=\"https://colab.research.google.com/github/Johnsylva/100-days-of-code/blob/master/Day3.ipynb\" target=\"_parent\"><img src=\"https://colab.research.google.com/assets/colab-badge.svg\" alt=\"Open In Colab\"/></a>"
      ]
    },
    {
      "cell_type": "code",
      "execution_count": 5,
      "metadata": {
        "colab": {
          "base_uri": "https://localhost:8080/"
        },
        "id": "XgKMjh407Cgq",
        "outputId": "52460d78-da95-451a-c078-71d88ea13266"
      },
      "outputs": [
        {
          "output_type": "stream",
          "name": "stdout",
          "text": [
            "(0, 'a')\n",
            "(1, 'b')\n",
            "(2, 'c')\n"
          ]
        }
      ],
      "source": [
        "#looping over a list\n",
        "#the enumerate(), helps us display the index of the built in function.\n",
        "letters = [\"a\", \"b\", \"c\"]\n",
        "for letter in enumerate(letters):\n",
        "  print(letter)\n",
        "#the output is a turple, which is a list that cannot be altered, it is bounded by a parenthesis"
      ]
    },
    {
      "cell_type": "code",
      "source": [
        "#to output the index:\n",
        "letters = [\"a\", \"b\", \"c\"]\n",
        "for letter in enumerate(letters):\n",
        "  print(letter[0],letter[1])"
      ],
      "metadata": {
        "colab": {
          "base_uri": "https://localhost:8080/"
        },
        "id": "x8Qg_G0o9MZH",
        "outputId": "addab42c-dc1e-48f4-8359-c0433cb05fc8"
      },
      "execution_count": 6,
      "outputs": [
        {
          "output_type": "stream",
          "name": "stdout",
          "text": [
            "0 a\n",
            "1 b\n",
            "2 c\n"
          ]
        }
      ]
    },
    {
      "cell_type": "code",
      "source": [
        "letters = [\"a\", \"b\", \"c\"]\n",
        "for index, letter in enumerate(letters):\n",
        "  print(index, letter)"
      ],
      "metadata": {
        "colab": {
          "base_uri": "https://localhost:8080/"
        },
        "id": "zuVP7EOI-OaS",
        "outputId": "3ed66e28-68b7-4368-a170-7131909b5037"
      },
      "execution_count": 7,
      "outputs": [
        {
          "output_type": "stream",
          "name": "stdout",
          "text": [
            "0 a\n",
            "1 b\n",
            "2 c\n"
          ]
        }
      ]
    },
    {
      "cell_type": "code",
      "source": [
        "#How to add an item to a list; use the append() method\n",
        "letters = [\"a\", \"b\", \"c\", \"d\"]\n",
        "letters.append(\"s\")\n",
        "letters\n"
      ],
      "metadata": {
        "colab": {
          "base_uri": "https://localhost:8080/"
        },
        "id": "PeMZqC_n_rLO",
        "outputId": "6b2dbe58-d2bb-4b58-9083-c6c93aecb416"
      },
      "execution_count": 10,
      "outputs": [
        {
          "output_type": "execute_result",
          "data": {
            "text/plain": [
              "['a', 'b', 'c', 'd', 's']"
            ]
          },
          "metadata": {},
          "execution_count": 10
        }
      ]
    },
    {
      "cell_type": "code",
      "source": [
        "letters.insert(1,\"h\")\n",
        "letters"
      ],
      "metadata": {
        "colab": {
          "base_uri": "https://localhost:8080/"
        },
        "id": "vUxnkjLsAxvH",
        "outputId": "80bff3de-7120-4d8b-ae76-c595d7692f1a"
      },
      "execution_count": 11,
      "outputs": [
        {
          "output_type": "execute_result",
          "data": {
            "text/plain": [
              "['a', 'h', 'b', 'c', 'd', 's']"
            ]
          },
          "metadata": {},
          "execution_count": 11
        }
      ]
    },
    {
      "cell_type": "code",
      "source": [
        "#How to remove an item from a list, use pop() method\n",
        "letters.pop(1)\n",
        "letters"
      ],
      "metadata": {
        "colab": {
          "base_uri": "https://localhost:8080/"
        },
        "id": "NrFbOofiBCvD",
        "outputId": "3f519651-1917-4d24-ed5c-a63270fe9e68"
      },
      "execution_count": 13,
      "outputs": [
        {
          "output_type": "execute_result",
          "data": {
            "text/plain": [
              "['a', 'c', 'd', 's']"
            ]
          },
          "metadata": {},
          "execution_count": 13
        }
      ]
    },
    {
      "cell_type": "code",
      "source": [
        "#we can remove a range of items with the del statement\n",
        "del letters[0:2]\n",
        "letters"
      ],
      "metadata": {
        "colab": {
          "base_uri": "https://localhost:8080/"
        },
        "id": "nwPu7h5tB2r7",
        "outputId": "2d508a4e-b91d-422f-9711-23559f431fab"
      },
      "execution_count": 14,
      "outputs": [
        {
          "output_type": "execute_result",
          "data": {
            "text/plain": [
              "['d', 's']"
            ]
          },
          "metadata": {},
          "execution_count": 14
        }
      ]
    },
    {
      "cell_type": "code",
      "source": [
        "letters.append(\"o\")\n",
        "letters"
      ],
      "metadata": {
        "colab": {
          "base_uri": "https://localhost:8080/"
        },
        "id": "JNjQmbZdCOnS",
        "outputId": "d39e5e50-328c-44ce-e93d-1f21b11aadc4"
      },
      "execution_count": 16,
      "outputs": [
        {
          "output_type": "execute_result",
          "data": {
            "text/plain": [
              "['d', 's', 'o']"
            ]
          },
          "metadata": {},
          "execution_count": 16
        }
      ]
    },
    {
      "cell_type": "code",
      "source": [
        "letters.insert(0,\"y\")\n",
        "letters"
      ],
      "metadata": {
        "colab": {
          "base_uri": "https://localhost:8080/"
        },
        "id": "FyrDm0qWCf9C",
        "outputId": "891b3b18-fcce-41c3-8556-f1bf2a2f325d"
      },
      "execution_count": 17,
      "outputs": [
        {
          "output_type": "execute_result",
          "data": {
            "text/plain": [
              "['y', 'd', 's', 'o']"
            ]
          },
          "metadata": {},
          "execution_count": 17
        }
      ]
    },
    {
      "cell_type": "code",
      "source": [
        "letters.remove(\"d\")\n",
        "letters"
      ],
      "metadata": {
        "colab": {
          "base_uri": "https://localhost:8080/"
        },
        "id": "uGyKrSLzDCzR",
        "outputId": "a0543316-76f1-4cb5-ce62-bc9825d84020"
      },
      "execution_count": 18,
      "outputs": [
        {
          "output_type": "execute_result",
          "data": {
            "text/plain": [
              "['y', 's', 'o']"
            ]
          },
          "metadata": {},
          "execution_count": 18
        }
      ]
    },
    {
      "cell_type": "code",
      "source": [
        "#to remove all the object in a list we use the clear method.\n",
        "letters.clear()\n",
        "letters"
      ],
      "metadata": {
        "colab": {
          "base_uri": "https://localhost:8080/"
        },
        "id": "Rhaq7GEHDdAj",
        "outputId": "fa62829c-6022-4ab5-ee79-b9d97d1b4e41"
      },
      "execution_count": 19,
      "outputs": [
        {
          "output_type": "execute_result",
          "data": {
            "text/plain": [
              "[]"
            ]
          },
          "metadata": {},
          "execution_count": 19
        }
      ]
    },
    {
      "cell_type": "code",
      "source": [
        "#finding the index of a given object in a list\n",
        "letters = [\"a\", \"b\", \"d\", \"g\", \"k\"]\n",
        "letters.index(\"a\")"
      ],
      "metadata": {
        "colab": {
          "base_uri": "https://localhost:8080/"
        },
        "id": "16aOb9ajEWXC",
        "outputId": "c6c52c57-e5ce-44dc-dd44-296009009a3e"
      },
      "execution_count": 21,
      "outputs": [
        {
          "output_type": "execute_result",
          "data": {
            "text/plain": [
              "0"
            ]
          },
          "metadata": {},
          "execution_count": 21
        }
      ]
    },
    {
      "cell_type": "code",
      "source": [
        "#to print an item in a list, we may first have to check if the given object exist in the list\n",
        "if \"j\" in letters:\n",
        "  print(letters.index(\"j\"))"
      ],
      "metadata": {
        "id": "U4FBemucGme0"
      },
      "execution_count": 23,
      "outputs": []
    },
    {
      "cell_type": "code",
      "source": [
        "#to get the number of occurence of an item in a list, use the count method\n",
        "letters.count(\"j\")"
      ],
      "metadata": {
        "colab": {
          "base_uri": "https://localhost:8080/"
        },
        "id": "1BjIsdZdHz0J",
        "outputId": "ced32ed1-41f6-4d51-c490-a000a3f1a3f0"
      },
      "execution_count": 25,
      "outputs": [
        {
          "output_type": "execute_result",
          "data": {
            "text/plain": [
              "0"
            ]
          },
          "metadata": {},
          "execution_count": 25
        }
      ]
    },
    {
      "cell_type": "code",
      "source": [
        "#sorting a list\n",
        "numbers = [56, 3, 2, 89, 0, 4]\n",
        "sorted(numbers)"
      ],
      "metadata": {
        "colab": {
          "base_uri": "https://localhost:8080/"
        },
        "id": "aZoJBt-JJAa5",
        "outputId": "f94be98a-e478-4378-ab5a-d3a91f32e085"
      },
      "execution_count": 26,
      "outputs": [
        {
          "output_type": "execute_result",
          "data": {
            "text/plain": [
              "[0, 2, 3, 4, 56, 89]"
            ]
          },
          "metadata": {},
          "execution_count": 26
        }
      ]
    },
    {
      "cell_type": "code",
      "source": [
        "sorted(numbers, reverse = True)"
      ],
      "metadata": {
        "colab": {
          "base_uri": "https://localhost:8080/"
        },
        "id": "a09a2cX4Jr-m",
        "outputId": "7de01176-fa9f-4dc9-a590-51483613a4ce"
      },
      "execution_count": 27,
      "outputs": [
        {
          "output_type": "execute_result",
          "data": {
            "text/plain": [
              "[89, 56, 4, 3, 2, 0]"
            ]
          },
          "metadata": {},
          "execution_count": 27
        }
      ]
    },
    {
      "cell_type": "code",
      "source": [
        "#we can also use the sort method.\n",
        "numbers.sort(reverse=False)\n",
        "numbers"
      ],
      "metadata": {
        "colab": {
          "base_uri": "https://localhost:8080/"
        },
        "id": "TeWD9SL6J6JD",
        "outputId": "133c011f-b7b7-49a8-b643-d011806a0f2e"
      },
      "execution_count": 30,
      "outputs": [
        {
          "output_type": "execute_result",
          "data": {
            "text/plain": [
              "[0, 2, 3, 4, 56, 89]"
            ]
          },
          "metadata": {},
          "execution_count": 30
        }
      ]
    },
    {
      "cell_type": "code",
      "source": [
        "#sorting through a list of turples, we can use the lambda expression, a simple one line anonymous function that we can pass to other function\n",
        "#a shorter and cleaner way to define a function that we are going to use only once as an argument to another function\n",
        "items = [(\"Product1\", 10), (\"Product2\", 9), (\"Product3\", 12)]\n",
        "\n",
        "items.sort(key=lambda item:item[1])\n",
        "print(items)"
      ],
      "metadata": {
        "colab": {
          "base_uri": "https://localhost:8080/"
        },
        "id": "WE4dWF8xNZod",
        "outputId": "e4010755-3fbf-458a-9a8d-453fb421ee07"
      },
      "execution_count": 49,
      "outputs": [
        {
          "output_type": "stream",
          "name": "stdout",
          "text": [
            "[('Product2', 9), ('Product1', 10), ('Product3', 12)]\n"
          ]
        }
      ]
    }
  ]
}