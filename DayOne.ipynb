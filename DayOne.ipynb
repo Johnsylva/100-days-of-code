{
  "nbformat": 4,
  "nbformat_minor": 0,
  "metadata": {
    "colab": {
      "name": "DayOne.ipynb",
      "provenance": [],
      "authorship_tag": "ABX9TyOjz0Torw+ZsMB9DgjjvKBZ",
      "include_colab_link": true
    },
    "kernelspec": {
      "name": "python3",
      "display_name": "Python 3"
    },
    "language_info": {
      "name": "python"
    }
  },
  "cells": [
    {
      "cell_type": "markdown",
      "metadata": {
        "id": "view-in-github",
        "colab_type": "text"
      },
      "source": [
        "<a href=\"https://colab.research.google.com/github/Johnsylva/100-days-of-code/blob/master/DayOne.ipynb\" target=\"_parent\"><img src=\"https://colab.research.google.com/assets/colab-badge.svg\" alt=\"Open In Colab\"/></a>"
      ]
    },
    {
      "cell_type": "code",
      "execution_count": 1,
      "metadata": {
        "colab": {
          "base_uri": "https://localhost:8080/"
        },
        "id": "aPrb5C_3hvaE",
        "outputId": "607ef6ab-914e-4aa4-aff9-f82cb536bf61"
      },
      "outputs": [
        {
          "output_type": "stream",
          "name": "stdout",
          "text": [
            "Hi there!\n",
            "Welcome aboard\n"
          ]
        }
      ],
      "source": [
        "def greet():\n",
        "  print(\"Hi there!\")\n",
        "  print(\"Welcome aboard\")\n",
        "\n",
        "greet()\n"
      ]
    },
    {
      "cell_type": "code",
      "source": [
        "#A parameter is the input that you define for your function, an argument is the actual value for a given parameter.\n",
        "#Here the parameter is the first_name and last_name, while the argument will be Ogbeide, Uwagboe\n",
        "def greet(first_name, last_name):\n",
        "  print(f\"Hi {first_name} {last_name}\")\n",
        "  print(\"Welcome aboard\")\n",
        "\n",
        "greet(\"Ogbeide\", \"Uwagboe\")"
      ],
      "metadata": {
        "colab": {
          "base_uri": "https://localhost:8080/"
        },
        "id": "xUiwuJWxince",
        "outputId": "ea22f78f-73cc-4061-91ac-1559ed45d270"
      },
      "execution_count": 2,
      "outputs": [
        {
          "output_type": "stream",
          "name": "stdout",
          "text": [
            "Hi Ogbeide Uwagboe\n",
            "Welcome aboard\n"
          ]
        }
      ]
    },
    {
      "cell_type": "code",
      "source": [
        "greet(\"Grace\", \"Godwin\")"
      ],
      "metadata": {
        "colab": {
          "base_uri": "https://localhost:8080/"
        },
        "id": "hBjeY9kuklyd",
        "outputId": "349f802c-ddc2-4fbd-fb5e-60744854c8f8"
      },
      "execution_count": 3,
      "outputs": [
        {
          "output_type": "stream",
          "name": "stdout",
          "text": [
            "Hi Grace Godwin\n",
            "Welcome aboard\n"
          ]
        }
      ]
    },
    {
      "cell_type": "code",
      "source": [
        "#In programming we have two types of functions; functions that create a task and functions that calculate and returns a value\n",
        "#Examples of function that create a task is as seen in the greet() and print() function.\n",
        "#Examples of function that calculate and returns a value is as seen in round()\n",
        "def get_greeting(name):\n",
        "  return f\"Hi {name}!\"   #with the return we can either put it in a file or send it in an email and so on\n",
        "\n",
        "message = get_greeting(\"Ogbeide\")\n",
        "print(message)"
      ],
      "metadata": {
        "colab": {
          "base_uri": "https://localhost:8080/"
        },
        "id": "F__MuhMblEF7",
        "outputId": "317023af-d0ca-4443-b3cb-3672e61bd0f3"
      },
      "execution_count": 6,
      "outputs": [
        {
          "output_type": "stream",
          "name": "stdout",
          "text": [
            "Hi Ogbeide!\n"
          ]
        }
      ]
    },
    {
      "cell_type": "code",
      "source": [
        "def increment(number, by):\n",
        "  return number + by\n",
        "\n",
        "result = increment(2, 1)\n",
        "print(result)\n"
      ],
      "metadata": {
        "colab": {
          "base_uri": "https://localhost:8080/"
        },
        "id": "kbKmv3g_rAXk",
        "outputId": "bc05c04c-3228-41ba-cde7-e761bca36d22"
      },
      "execution_count": 7,
      "outputs": [
        {
          "output_type": "stream",
          "name": "stdout",
          "text": [
            "3\n"
          ]
        }
      ]
    },
    {
      "cell_type": "code",
      "source": [
        "def increment(number, by):\n",
        "  return number + by\n",
        "\n",
        "print(increment(2, by=1))"
      ],
      "metadata": {
        "colab": {
          "base_uri": "https://localhost:8080/"
        },
        "id": "TrtuQjryreA9",
        "outputId": "1952c823-3d24-4996-9b1a-b9f73f5d6076"
      },
      "execution_count": 8,
      "outputs": [
        {
          "output_type": "stream",
          "name": "stdout",
          "text": [
            "3\n"
          ]
        }
      ]
    },
    {
      "cell_type": "code",
      "source": [
        "#we can set the parameter by default such that when we print it automatically increment witht the default amount.\n",
        "def increment(number, by=1):\n",
        "  return number + by\n",
        "\n",
        "print(increment(2))"
      ],
      "metadata": {
        "colab": {
          "base_uri": "https://localhost:8080/"
        },
        "id": "P32RIGB_sfjs",
        "outputId": "8c7c5ad5-91ed-4b6a-85cf-6df41dd27205"
      },
      "execution_count": 11,
      "outputs": [
        {
          "output_type": "stream",
          "name": "stdout",
          "text": [
            "3\n"
          ]
        }
      ]
    },
    {
      "cell_type": "code",
      "source": [
        "def multiply(*numbers):\n",
        "  print(numbers)\n",
        "\n",
        "multiply(2,3,4,5)"
      ],
      "metadata": {
        "colab": {
          "base_uri": "https://localhost:8080/"
        },
        "id": "LCOzXruEuxy9",
        "outputId": "83a4e553-1de5-4e62-e3a7-c02344b85e15"
      },
      "execution_count": 13,
      "outputs": [
        {
          "output_type": "stream",
          "name": "stdout",
          "text": [
            "(2, 3, 4, 5)\n"
          ]
        }
      ]
    },
    {
      "cell_type": "code",
      "source": [
        "def multiply(*numbers):\n",
        "  total = 1\n",
        "  for number in numbers:\n",
        "    total *= number\n",
        "  return total\n",
        "\n",
        "multiply(2, 3, 3, 4, 5)"
      ],
      "metadata": {
        "colab": {
          "base_uri": "https://localhost:8080/"
        },
        "id": "OiJYYhdaw6Xg",
        "outputId": "bc914327-ba9a-49d2-d2a7-1b2a60f62200"
      },
      "execution_count": 18,
      "outputs": [
        {
          "output_type": "execute_result",
          "data": {
            "text/plain": [
              "360"
            ]
          },
          "metadata": {},
          "execution_count": 18
        }
      ]
    },
    {
      "cell_type": "code",
      "source": [
        "def save_user(**user):\n",
        "  print(user)\n",
        "\n",
        "save_user(id=1, name = \"John\", age= 19)"
      ],
      "metadata": {
        "colab": {
          "base_uri": "https://localhost:8080/"
        },
        "id": "WnzGiFbN5wl4",
        "outputId": "8a02f156-fc9c-4b2e-f50b-835f6452c38f"
      },
      "execution_count": 23,
      "outputs": [
        {
          "output_type": "stream",
          "name": "stdout",
          "text": [
            "{'id': 1, 'name': 'John', 'age': 19}\n"
          ]
        }
      ]
    },
    {
      "cell_type": "code",
      "source": [
        "#Scope is the region of the code where a variable is defined\n",
        "#local variable ; when a variable only exist inside a function\n",
        "#global variable; when a variable exists outside of a function\n",
        "def greet(name):\n",
        "  message = \"a\"\n",
        "\n",
        "#message and name are referred to as local variable.\n",
        "\n",
        "message = \"a\" #this is a global variable\n",
        "def greet(name):\n",
        "  message = \"b\""
      ],
      "metadata": {
        "id": "yZZIVstD7X4Y"
      },
      "execution_count": null,
      "outputs": []
    },
    {
      "cell_type": "code",
      "source": [
        "#fizz_buzz\n",
        "def Fizz_Buzz(input):\n",
        "    if (input % 3 == 0) and (input % 5 == 0):\n",
        "      return \"Fizz_Buzz\"\n",
        "    if input % 5 == 0:\n",
        "      return \"Buzz\"\n",
        "    if input % 3 == 0:\n",
        "      return \"Fizz\"\n",
        "    return input\n",
        "\n",
        "print(Fizz_Buzz(7))"
      ],
      "metadata": {
        "colab": {
          "base_uri": "https://localhost:8080/"
        },
        "id": "TlO1PC26E5Oc",
        "outputId": "2eef2660-950f-4ac5-fdd7-3f2a1dd57a7f"
      },
      "execution_count": 37,
      "outputs": [
        {
          "output_type": "stream",
          "name": "stdout",
          "text": [
            "7\n"
          ]
        }
      ]
    }
  ]
}