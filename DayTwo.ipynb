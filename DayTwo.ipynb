{
  "nbformat": 4,
  "nbformat_minor": 0,
  "metadata": {
    "colab": {
      "name": "DayTwo.ipynb",
      "provenance": [],
      "authorship_tag": "ABX9TyOuI7tm1PVukWVmNuy518Vu",
      "include_colab_link": true
    },
    "kernelspec": {
      "name": "python3",
      "display_name": "Python 3"
    },
    "language_info": {
      "name": "python"
    }
  },
  "cells": [
    {
      "cell_type": "markdown",
      "metadata": {
        "id": "view-in-github",
        "colab_type": "text"
      },
      "source": [
        "<a href=\"https://colab.research.google.com/github/Johnsylva/100-days-of-code/blob/master/DayTwo.ipynb\" target=\"_parent\"><img src=\"https://colab.research.google.com/assets/colab-badge.svg\" alt=\"Open In Colab\"/></a>"
      ]
    },
    {
      "cell_type": "code",
      "execution_count": 1,
      "metadata": {
        "colab": {
          "base_uri": "https://localhost:8080/"
        },
        "id": "9cJ9o8iGCgfV",
        "outputId": "ff82da88-94f3-4b2f-c3d0-f1217d8b0699"
      },
      "outputs": [
        {
          "output_type": "execute_result",
          "data": {
            "text/plain": [
              "[0, 1, 2, 3, 4, 5, 6, 7, 8, 9]"
            ]
          },
          "metadata": {},
          "execution_count": 1
        }
      ],
      "source": [
        "#Data Structures\n",
        "#List\n",
        "Letters = [\"a\", \"b\", \"c\", \"d\"]\n",
        "#matrix; a list inside a list; a two dimensional list.\n",
        "matrix = [[1,2], [5,7], [8,9]]\n",
        "zeros = [0] * 100\n",
        "numbers = list(range(10))"
      ]
    },
    {
      "cell_type": "code",
      "source": [
        "chars = list(\"Hello world\")\n",
        "print(len(chars))"
      ],
      "metadata": {
        "colab": {
          "base_uri": "https://localhost:8080/"
        },
        "id": "HKe4aV5EGq5T",
        "outputId": "7a30ad15-3090-41a2-fa27-27ea59f791a7"
      },
      "execution_count": 4,
      "outputs": [
        {
          "output_type": "stream",
          "name": "stdout",
          "text": [
            "11\n"
          ]
        }
      ]
    },
    {
      "cell_type": "code",
      "source": [
        "#to change the item in a list\n",
        "Letters[0] = \"A\"\n",
        "print(Letters[0:3])"
      ],
      "metadata": {
        "colab": {
          "base_uri": "https://localhost:8080/"
        },
        "id": "CPFEOgAZHwGT",
        "outputId": "a8f0ad60-e44d-4dcc-c4da-3b39372766e4"
      },
      "execution_count": 5,
      "outputs": [
        {
          "output_type": "stream",
          "name": "stdout",
          "text": [
            "['A', 'b', 'c']\n"
          ]
        }
      ]
    },
    {
      "cell_type": "code",
      "source": [
        "numbers = list(range(20))\n",
        "numbers[::2]"
      ],
      "metadata": {
        "colab": {
          "base_uri": "https://localhost:8080/"
        },
        "id": "IsoOCZJbIgJC",
        "outputId": "849c3c23-6236-4bd2-c72a-9077365daa89"
      },
      "execution_count": 8,
      "outputs": [
        {
          "output_type": "execute_result",
          "data": {
            "text/plain": [
              "[0, 2, 4, 6, 8, 10, 12, 14, 16, 18]"
            ]
          },
          "metadata": {},
          "execution_count": 8
        }
      ]
    },
    {
      "cell_type": "code",
      "source": [
        "numbers[::-1]"
      ],
      "metadata": {
        "colab": {
          "base_uri": "https://localhost:8080/"
        },
        "id": "g1UWp0s7JDZq",
        "outputId": "f0665481-bec2-426f-c61a-c35b67f25c66"
      },
      "execution_count": 9,
      "outputs": [
        {
          "output_type": "execute_result",
          "data": {
            "text/plain": [
              "[19, 18, 17, 16, 15, 14, 13, 12, 11, 10, 9, 8, 7, 6, 5, 4, 3, 2, 1, 0]"
            ]
          },
          "metadata": {},
          "execution_count": 9
        }
      ]
    },
    {
      "cell_type": "code",
      "source": [
        "#list unpacking\n",
        "numbers = [1,2,3,4,4,4,4,4]\n",
        "first, second, *other = numbers\n",
        "print(first)\n",
        "print(other)"
      ],
      "metadata": {
        "colab": {
          "base_uri": "https://localhost:8080/"
        },
        "id": "LgwCP_M6LcsA",
        "outputId": "639ada6a-d49f-4d28-d221-c94e5a03687d"
      },
      "execution_count": 10,
      "outputs": [
        {
          "output_type": "stream",
          "name": "stdout",
          "text": [
            "1\n",
            "[3, 4, 4, 4, 4, 4]\n"
          ]
        }
      ]
    },
    {
      "cell_type": "code",
      "source": [
        "#how to loop over a list\n",
        "letters = [\"a\",  \"b\", \"c\", \"d\", \"e\"]\n",
        "for letter in enumerate(letters):\n",
        "  print(letter)"
      ],
      "metadata": {
        "colab": {
          "base_uri": "https://localhost:8080/"
        },
        "id": "s-7z7wGLQhXi",
        "outputId": "0f1df4e5-5891-4a32-d594-e34a5597b6bc"
      },
      "execution_count": 14,
      "outputs": [
        {
          "output_type": "stream",
          "name": "stdout",
          "text": [
            "(0, 'a')\n",
            "(1, 'b')\n",
            "(2, 'c')\n",
            "(3, 'd')\n",
            "(4, 'e')\n"
          ]
        }
      ]
    }
  ]
}